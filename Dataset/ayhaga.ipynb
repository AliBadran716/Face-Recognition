{
 "cells": [
  {
   "cell_type": "code",
   "execution_count": null,
   "metadata": {},
   "outputs": [],
   "source": [
    "import os\n",
    "import shutil\n",
    "\n",
    "# Path to the dataset folder\n",
    "dataset_folder = \"/\"\n",
    "\n",
    "# Define the paths to the training and testing folders\n",
    "training_folder = os.path.join(dataset_folder, \"training\")\n",
    "testing_folder = os.path.join(dataset_folder, \"testing\")\n",
    "merged_folder = os.path.join(dataset_folder, \"merged\")\n",
    "\n",
    "# Loop through the subfolders in the testing folder\n",
    "for test_subfolder in os.listdir(testing_folder):\n",
    "    test_subfolder_path = os.path.join(testing_folder, test_subfolder)\n",
    "    \n",
    "    if os.path.isdir(test_subfolder_path):\n",
    "        # Check if the corresponding subfolder exists in the training folder\n",
    "        train_subfolder_path = os.path.join(training_folder, test_subfolder)\n",
    "        \n",
    "        if not os.path.exists(train_subfolder_path):\n",
    "            # If it doesn't exist, create it\n",
    "            os.makedirs(train_subfolder_path)\n",
    "        \n",
    "        # Move or copy the files from the testing subfolder to the training subfolder\n",
    "        for file in os.listdir(test_subfolder_path):\n",
    "            src_file_path = os.path.join(test_subfolder_path, file)\n",
    "            dest_file_path = os.path.join(train_subfolder_path, file)\n",
    "            \n",
    "            # Move the file (you can change this to shutil.copy to copy instead)\n",
    "            shutil.move(src_file_path, dest_file_path)\n",
    "        \n",
    "        print(f\"Moved contents of '{test_subfolder}' from testing to training.\")\n",
    "\n",
    "print(\"Merging completed.\")\n"
   ]
  }
 ],
 "metadata": {
  "language_info": {
   "name": "python"
  }
 },
 "nbformat": 4,
 "nbformat_minor": 2
}
